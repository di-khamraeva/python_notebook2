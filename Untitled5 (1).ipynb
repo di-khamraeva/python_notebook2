{
  "nbformat": 4,
  "nbformat_minor": 0,
  "metadata": {
    "colab": {
      "provenance": []
    },
    "kernelspec": {
      "name": "python3",
      "display_name": "Python 3"
    },
    "language_info": {
      "name": "python"
    }
  },
  "cells": [
    {
      "cell_type": "code",
      "source": [
        "# prompt: Share your notebook through GitHub\n",
        "\n",
        "# Import libraries\n",
        "from IPython.display import HTML\n",
        "\n",
        "# Define function to generate GitHub share link\n",
        "def get_github_share_link(filepath):\n",
        "  html_code = \"\"\"\n",
        "  <a href=\"https://github.com/{}/{}\" target=\"_blank\">\n",
        "    View on GitHub\n",
        "  </a>\"\"\".format(\"di-khamraeva\", filepath)\n",
        "  return HTML(html_code)\n",
        "\n",
        "# Get the current notebook filename\n",
        "notebook_filename = \"your_notebook.ipynb\"\n",
        "\n",
        "# Display the share link\n",
        "display(get_github_share_link(notebook_filename))\n"
      ],
      "metadata": {
        "colab": {
          "base_uri": "https://localhost:8080/",
          "height": 34
        },
        "id": "jp7ZVuxsCkYd",
        "outputId": "d45c35c3-9094-401e-cae9-dbef4d587da6"
      },
      "execution_count": 14,
      "outputs": [
        {
          "output_type": "display_data",
          "data": {
            "text/plain": [
              "<IPython.core.display.HTML object>"
            ],
            "text/html": [
              "\n",
              "  <a href=\"https://github.com/di-khamraeva/your_notebook.ipynb\" target=\"_blank\">\n",
              "    View on GitHub\n",
              "  </a>"
            ]
          },
          "metadata": {}
        }
      ]
    },
    {
      "cell_type": "markdown",
      "source": [
        "## Objectives:\n",
        "- Understand the concept of time conversion.\n",
        "- Implement a function to convert minutes to hours.\n",
        "- Demonstrate the usage of the function."
      ],
      "metadata": {
        "id": "DfaH0zJ7Eq6Z"
      }
    },
    {
      "cell_type": "code",
      "source": [
        "# prompt: Share your notebook through GitHub\n",
        "\n",
        "# Import libraries\n",
        "from IPython.display import HTML\n",
        "\n",
        "# Define function to generate GitHub share link\n",
        "def get_github_share_link(filepath):\n",
        "  html_code = \"\"\"\n",
        "  <a href=\"https://github.com/{}/blob/master/{}\" target=\"_blank\">\n",
        "    View on GitHub\n",
        "  </a>\"\"\".format(\"your_username\", filepath)\n",
        "  return HTML(html_code)\n",
        "\n",
        "# Get the current notebook filename\n",
        "notebook_filename = \"your_notebook.ipynb\"\n",
        "\n",
        "# Display the share link\n",
        "display(get_github_share_link(notebook_filename))\n"
      ],
      "metadata": {
        "colab": {
          "base_uri": "https://localhost:8080/",
          "height": 34
        },
        "id": "_7ONRrRQEiQD",
        "outputId": "fdf9978d-c607-49ef-9d3e-12e421d58131"
      },
      "execution_count": 11,
      "outputs": [
        {
          "output_type": "display_data",
          "data": {
            "text/plain": [
              "<IPython.core.display.HTML object>"
            ],
            "text/html": [
              "\n",
              "  <a href=\"https://github.com/your_username/blob/master/your_notebook.ipynb\" target=\"_blank\">\n",
              "    View on GitHub\n",
              "  </a>"
            ]
          },
          "metadata": {}
        }
      ]
    }
  ]
}