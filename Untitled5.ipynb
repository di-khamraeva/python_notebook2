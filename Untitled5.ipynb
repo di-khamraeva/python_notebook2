{
  "nbformat": 4,
  "nbformat_minor": 0,
  "metadata": {
    "colab": {
      "provenance": []
    },
    "kernelspec": {
      "name": "python3",
      "display_name": "Python 3"
    },
    "language_info": {
      "name": "python"
    }
  },
  "cells": [
    {
      "cell_type": "code",
      "source": [
        "# prompt: Share your notebook through GitHub\n",
        "\n",
        "# Import libraries\n",
        "from IPython.display import HTML\n",
        "\n",
        "# Define function to generate GitHub share link\n",
        "def get_github_share_link(filepath):\n",
        "  html_code = \"\"\"\n",
        "  <a href=\"https://github.com/{}/python_notebook2/blob/main/{}\" target=\"_blank\">\n",
        "    View on GitHub\n",
        "  </a>\"\"\".format(\"di-khamraeva\", filepath)\n",
        "  return HTML(html_code)\n",
        "\n",
        "# Get the current notebook filename\n",
        "notebook_filename = \"Untitled5.ipynb\"\n",
        "\n",
        "# Display the share link\n",
        "display(get_github_share_link(notebook_filename))\n"
      ],
      "metadata": {
        "colab": {
          "base_uri": "https://localhost:8080/",
          "height": 34
        },
        "id": "jp7ZVuxsCkYd",
        "outputId": "aa42d6d7-1809-4598-b187-3f4c26742978"
      },
      "execution_count": 18,
      "outputs": [
        {
          "output_type": "display_data",
          "data": {
            "text/plain": [
              "<IPython.core.display.HTML object>"
            ],
            "text/html": [
              "\n",
              "  <a href=\"https://github.com/di-khamraeva/python_notebook2/blob/main/Untitled5.ipynb\" target=\"_blank\">\n",
              "    View on GitHub\n",
              "  </a>"
            ]
          },
          "metadata": {}
        }
      ]
    },
    {
      "cell_type": "markdown",
      "source": [
        "## Objectives:\n",
        "- Understand the concept of time conversion.\n",
        "- Implement a function to convert minutes to hours.\n",
        "- Demonstrate the usage of the function."
      ],
      "metadata": {
        "id": "DfaH0zJ7Eq6Z"
      }
    }
  ]
}